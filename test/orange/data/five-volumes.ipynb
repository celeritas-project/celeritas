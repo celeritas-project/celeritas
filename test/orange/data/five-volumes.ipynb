{
 "cells": [
  {
   "cell_type": "code",
   "execution_count": 1,
   "metadata": {
    "collapsed": false,
    "jupyter": {
     "outputs_hidden": false
    }
   },
   "outputs": [],
   "source": [
    "import numpy as np\n",
    "import os.path\n",
    "import sys\n",
    "\n",
    "%matplotlib inline\n",
    "%load_ext wurlitzer\n",
    "%config Completer.use_jedi = False\n",
    "build_dir = '/rnsdhpc/code/_build/scale-orange'\n",
    "sys.path[:0] = [os.path.join(build_dir, subdir)\n",
    "                for subdir in ['python', 'src/nemesis', 'src/transcore', 'src/robus', 'src/geometria']]"
   ]
  },
  {
   "cell_type": "code",
   "execution_count": 2,
   "metadata": {},
   "outputs": [],
   "source": [
    "import geometria"
   ]
  },
  {
   "cell_type": "code",
   "execution_count": 3,
   "metadata": {},
   "outputs": [
    {
     "data": {
      "text/html": [
       "<p style=\"font-size: 75%; color: #ccc; font-style: italic;\">Loading Omnibus tools from Exnihilo version 6.3.pre-0 (branch 'celeritas-json-update' #12304ffe on 2021NOV09) [debug] [DBC=7]</p>"
      ],
      "text/plain": [
       "<IPython.core.display.HTML object>"
      ]
     },
     "metadata": {},
     "output_type": "display_data"
    }
   ],
   "source": [
    "from omnibus.raytrace.imager import Imager\n",
    "from omnibus.raytrace.load import load_orange"
   ]
  },
  {
   "cell_type": "markdown",
   "metadata": {},
   "source": [
    "# Five boring volumes"
   ]
  },
  {
   "cell_type": "code",
   "execution_count": 4,
   "metadata": {
    "collapsed": false,
    "jupyter": {
     "outputs_hidden": false
    }
   },
   "outputs": [
    {
     "name": "stderr",
     "output_type": "stream",
     "text": [
      "Generating ORANGE model XML input file from .org.omn...\n",
      "            ...finished generating ORANGE model XML input file from .org.omn\n"
     ]
    }
   ],
   "source": [
    "m = load_orange(\"five-volumes.org.omn\")"
   ]
  },
  {
   "cell_type": "code",
   "execution_count": 5,
   "metadata": {},
   "outputs": [
    {
     "name": "stdout",
     "output_type": "stream",
     "text": [
      "************************************************\n",
      "\"global\" (five-volumes.org.omn:9)\n",
      "************************************************\n",
      ":Type:         simple unit\n",
      ":# Cells:      6 (offset = 0)\n",
      ":# Surfaces:   12 (offset = 0)\n",
      ":Bounding box: ``{-100 -100 -100 to 100 100 100}``\n",
      "\n",
      "======= ========== ============================================================\n",
      "Cell    Name       Surface logic\n",
      "======= ========== ============================================================\n",
      "0       [EXTERIOR] 0\n",
      "                   (from ``five-volumes.org.omn:9``)\n",
      "1       a          1 2 ~ & 3 & 4 ~ & 5 & 6 ~ & 7 &\n",
      "                   (from ``five-volumes.org.omn:34``)\n",
      "2       b          7 3 ~ 5 & 6 ~ & 8 & 9 ~ & 10 & &\n",
      "                   (from ``five-volumes.org.omn:38``)\n",
      "3       c          7 ~ 11 &\n",
      "                   (from ``five-volumes.org.omn:42``)\n",
      "4       d          0 ~ 1 2 ~ & 3 & 4 ~ & 5 & 6 ~ & ~ & 7 & 3 ~ 5 & 6 ~ & 8 & 9\n",
      "                   ~ & 10 & ~ &\n",
      "                   (from ``five-volumes.org.omn:46``)\n",
      "5       e          11 ~\n",
      "                   (from ``five-volumes.org.omn:50``)\n",
      "======= ========== ============================================================\n",
      "\n",
      "Cells with reentrant surface tracking: \"a\", \"b\", \"c\", \"d\"\n",
      "\n",
      "======= ========= ============================================================\n",
      "Surface Name      Description\n",
      "======= ========= ============================================================\n",
      "0                 Sphere: r=100\n",
      "        outer.s   (from ``five-volumes.org.omn:14``)\n",
      "1                 Plane: x=-1\n",
      "        alpha.mx  (from ``five-volumes.org.omn:18``)\n",
      "2                 Plane: x=0\n",
      "        alpha.px  (from ``five-volumes.org.omn:18``)\n",
      "3                 Plane: y=0\n",
      "        alpha.my  (from ``five-volumes.org.omn:18``)\n",
      "        beta.py   (from ``five-volumes.org.omn:21``)\n",
      "4                 Plane: y=1\n",
      "        alpha.py  (from ``five-volumes.org.omn:18``)\n",
      "5                 Plane: z=-0.5\n",
      "        alpha.mz  (from ``five-volumes.org.omn:18``)\n",
      "        beta.mz   (from ``five-volumes.org.omn:21``)\n",
      "6                 Plane: z=0.5\n",
      "        alpha.pz  (from ``five-volumes.org.omn:18``)\n",
      "        beta.pz   (from ``five-volumes.org.omn:21``)\n",
      "7                 Sphere: r=0.75\n",
      "        gamma.s   (from ``five-volumes.org.omn:24``)\n",
      "8                 Plane: x=0.5\n",
      "        beta.mx   (from ``five-volumes.org.omn:21``)\n",
      "9                 Plane: x=1.5\n",
      "        beta.px   (from ``five-volumes.org.omn:21``)\n",
      "10                Plane: y=-1\n",
      "        beta.my   (from ``five-volumes.org.omn:21``)\n",
      "11                Sphere: r=0.25 at -0.25 -0.25 0\n",
      "        epsilon.s (from ``five-volumes.org.omn:28``)\n",
      "======= ========= ============================================================\n",
      "\n",
      "========== ====================================================================\n",
      "Cell       Fill\n",
      "========== ====================================================================\n",
      "[EXTERIOR] ---\n",
      "a          Material 0\n",
      "b          Material 1\n",
      "c          Material 2\n",
      "d          Material 3\n",
      "e          Material 4\n",
      "========== ====================================================================\n",
      "\n",
      "\n"
     ]
    }
   ],
   "source": [
    "print(m.geometry.describe())"
   ]
  },
  {
   "cell_type": "code",
   "execution_count": 6,
   "metadata": {},
   "outputs": [
    {
     "data": {
      "image/png": "[encoded data removed]",
      "text/plain": [
       "<Figure size 432x288 with 2 Axes>"
      ]
     },
     "metadata": {
      "needs_background": "light"
     },
     "output_type": "display_data"
    }
   ],
   "source": [
    "imager = Imager.from_extents(m.geometry, z=0, max_pixels=512, trace='cell')\n",
    "imager.plot();"
   ]
  },
  {
   "cell_type": "code",
   "execution_count": 7,
   "metadata": {},
   "outputs": [
    {
     "data": {
      "image/png": "[encoded data removed]",
      "text/plain": [
       "<Figure size 432x288 with 2 Axes>"
      ]
     },
     "metadata": {
      "needs_background": "light"
     },
     "output_type": "display_data"
    }
   ],
   "source": [
    "imager.scale(50)\n",
    "plots = imager.plot()\n",
    "ax = plots['ax']\n",
    "ax.set_xticks(np.linspace(-2, 2, 8 + 1))\n",
    "ax.set_yticks(np.linspace(-2, 2, 8 + 1))\n",
    "ax.grid()"
   ]
  }
 ],
 "metadata": {
  "kernelspec": {
   "display_name": "Python 3 (ipykernel)",
   "language": "python",
   "name": "python3"
  },
  "language_info": {
   "codemirror_mode": {
    "name": "ipython",
    "version": 3
   },
   "file_extension": ".py",
   "mimetype": "text/x-python",
   "name": "python",
   "nbconvert_exporter": "python",
   "pygments_lexer": "ipython3",
   "version": "3.8.11"
  }
 },
 "nbformat": 4,
 "nbformat_minor": 4
}
